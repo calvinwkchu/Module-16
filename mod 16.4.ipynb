{
  "nbformat": 4,
  "nbformat_minor": 0,
  "metadata": {
    "colab": {
      "name": "Untitled0.ipynb",
      "provenance": []
    },
    "kernelspec": {
      "name": "python3",
      "display_name": "Python 3"
    }
  },
  "cells": [
    {
      "cell_type": "code",
      "metadata": {
        "colab": {
          "base_uri": "https://localhost:8080/"
        },
        "id": "JMzPr1h7Kkxz",
        "outputId": "82c0df87-caf0-46a3-c825-e41f67865649"
      },
      "source": [
        "import os\r\n",
        "# Find the latest version of spark 3.0  from http://www-us.apache.org/dist/spark/ and enter as the spark version\r\n",
        "# For example:\r\n",
        "# spark_version = 'spark-3.0.1'\r\n",
        "spark_version = 'spark-3.0.1'\r\n",
        "os.environ['SPARK_VERSION']=spark_version\r\n",
        "\r\n",
        "# Install Spark and Java\r\n",
        "!apt-get update\r\n",
        "!apt-get install openjdk-11-jdk-headless -qq > /dev/null\r\n",
        "!wget -q http://www-us.apache.org/dist/spark/$SPARK_VERSION/$SPARK_VERSION-bin-hadoop2.7.tgz\r\n",
        "!tar xf $SPARK_VERSION-bin-hadoop2.7.tgz\r\n",
        "!pip install -q findspark\r\n",
        "\r\n",
        "# Set Environment Variables\r\n",
        "import os\r\n",
        "os.environ[\"JAVA_HOME\"] = \"/usr/lib/jvm/java-11-openjdk-amd64\"\r\n",
        "os.environ[\"SPARK_HOME\"] = f\"/content/{spark_version}-bin-hadoop2.7\"\r\n",
        "\r\n",
        "# Start a SparkSession\r\n",
        "import findspark\r\n",
        "findspark.init()\r\n",
        "\r\n"
      ],
      "execution_count": 2,
      "outputs": [
        {
          "output_type": "stream",
          "text": [
            "Hit:1 https://cloud.r-project.org/bin/linux/ubuntu bionic-cran40/ InRelease\n",
            "Ign:2 https://developer.download.nvidia.com/compute/cuda/repos/ubuntu1804/x86_64  InRelease\n",
            "Hit:3 http://security.ubuntu.com/ubuntu bionic-security InRelease\n",
            "Ign:4 https://developer.download.nvidia.com/compute/machine-learning/repos/ubuntu1804/x86_64  InRelease\n",
            "Hit:5 https://developer.download.nvidia.com/compute/cuda/repos/ubuntu1804/x86_64  Release\n",
            "Hit:6 https://developer.download.nvidia.com/compute/machine-learning/repos/ubuntu1804/x86_64  Release\n",
            "Hit:7 http://archive.ubuntu.com/ubuntu bionic InRelease\n",
            "Hit:8 http://ppa.launchpad.net/c2d4u.team/c2d4u4.0+/ubuntu bionic InRelease\n",
            "Hit:10 http://archive.ubuntu.com/ubuntu bionic-updates InRelease\n",
            "Hit:12 http://archive.ubuntu.com/ubuntu bionic-backports InRelease\n",
            "Hit:13 http://ppa.launchpad.net/cran/libgit2/ubuntu bionic InRelease\n",
            "Hit:14 http://ppa.launchpad.net/graphics-drivers/ppa/ubuntu bionic InRelease\n",
            "Reading package lists... Done\n"
          ],
          "name": "stdout"
        }
      ]
    },
    {
      "cell_type": "code",
      "metadata": {
        "id": "rVgosd5QMnEs"
      },
      "source": [
        "# Start Spark session\r\n",
        "from pyspark.sql import SparkSession\r\n",
        "spark = SparkSession.builder.appName(\"DataFrameBasics\").getOrCreate()"
      ],
      "execution_count": 3,
      "outputs": []
    },
    {
      "cell_type": "code",
      "metadata": {
        "colab": {
          "base_uri": "https://localhost:8080/"
        },
        "id": "BXHM0MLEM7vJ",
        "outputId": "675c10bc-f4d9-49fd-983b-4860e1b8b3f2"
      },
      "source": [
        "dataframe = spark.createDataFrame([\r\n",
        "                                   (0, \"Here is our DataFrame\"),\r\n",
        "                                   (1, \"We are making one from scratch\"),\r\n",
        "                                   (2, \"This will look very similar to Pandas DataFrame\")\r\n",
        "], [\"id\", \"words\"])\r\n",
        "dataframe.show()"
      ],
      "execution_count": 4,
      "outputs": [
        {
          "output_type": "stream",
          "text": [
            "+---+--------------------+\n",
            "| id|               words|\n",
            "+---+--------------------+\n",
            "|  0|Here is our DataF...|\n",
            "|  1|We are making one...|\n",
            "|  2|This will look ve...|\n",
            "+---+--------------------+\n",
            "\n"
          ],
          "name": "stdout"
        }
      ]
    },
    {
      "cell_type": "code",
      "metadata": {
        "id": "2ZunlOmsNXt1"
      },
      "source": [
        "# Read in data from S3 Buckets\r\n",
        "from pyspark import SparkFiles\r\n",
        "url = \"https://s3.amazonaws.com/dataviz-curriculum/day_1/food.csv\"\r\n",
        "spark.sparkContext.addFile(url)\r\n",
        "df = spark.read.csv(SparkFiles.get(\"food.csv\"), sep=\",\", header=True)"
      ],
      "execution_count": 5,
      "outputs": []
    },
    {
      "cell_type": "code",
      "metadata": {
        "colab": {
          "base_uri": "https://localhost:8080/"
        },
        "id": "Uvr-vhtHNe0b",
        "outputId": "b538ffc1-ed96-4c8a-b3d0-051f1e1a4fb0"
      },
      "source": [
        "df.show()"
      ],
      "execution_count": 6,
      "outputs": [
        {
          "output_type": "stream",
          "text": [
            "+-------+-----+\n",
            "|   food|price|\n",
            "+-------+-----+\n",
            "|  pizza|    0|\n",
            "|  sushi|   12|\n",
            "|chinese|   10|\n",
            "+-------+-----+\n",
            "\n"
          ],
          "name": "stdout"
        }
      ]
    },
    {
      "cell_type": "code",
      "metadata": {
        "colab": {
          "base_uri": "https://localhost:8080/"
        },
        "id": "bH5KuXnmNiCL",
        "outputId": "e0fae33d-cbe4-42f1-8671-bc7c0637a1ef"
      },
      "source": [
        "# Print our schema\r\n",
        "df.printSchema()"
      ],
      "execution_count": 7,
      "outputs": [
        {
          "output_type": "stream",
          "text": [
            "root\n",
            " |-- food: string (nullable = true)\n",
            " |-- price: string (nullable = true)\n",
            "\n"
          ],
          "name": "stdout"
        }
      ]
    },
    {
      "cell_type": "code",
      "metadata": {
        "colab": {
          "base_uri": "https://localhost:8080/"
        },
        "id": "EAlR11r2N3zu",
        "outputId": "e302e487-0ef3-490b-b406-4a25d0d59951"
      },
      "source": [
        "df.describe()"
      ],
      "execution_count": 8,
      "outputs": [
        {
          "output_type": "execute_result",
          "data": {
            "text/plain": [
              "DataFrame[summary: string, food: string, price: string]"
            ]
          },
          "metadata": {
            "tags": []
          },
          "execution_count": 8
        }
      ]
    },
    {
      "cell_type": "code",
      "metadata": {
        "id": "EJoJUOFoN-Mw"
      },
      "source": [
        "# Import struct fields that we can use\r\n",
        "from pyspark.sql.types import StructField, StringType, IntegerType, StructType"
      ],
      "execution_count": 10,
      "outputs": []
    },
    {
      "cell_type": "code",
      "metadata": {
        "colab": {
          "base_uri": "https://localhost:8080/"
        },
        "id": "Dh_W7GtfOFfC",
        "outputId": "350e6180-0155-4106-d66b-84db96b78fe8"
      },
      "source": [
        "# Next we need to create the list of struct fields\r\n",
        "schema = [StructField(\"food\", StringType(), True), StructField(\"price\", IntegerType(), True),]\r\n",
        "schema"
      ],
      "execution_count": 11,
      "outputs": [
        {
          "output_type": "execute_result",
          "data": {
            "text/plain": [
              "[StructField(food,StringType,true), StructField(price,IntegerType,true)]"
            ]
          },
          "metadata": {
            "tags": []
          },
          "execution_count": 11
        }
      ]
    },
    {
      "cell_type": "code",
      "metadata": {
        "colab": {
          "base_uri": "https://localhost:8080/"
        },
        "id": "_3fPuUq7OTI4",
        "outputId": "dc447f64-ec47-497e-a5df-fab0a01d0d66"
      },
      "source": [
        "# Pass in our fields\r\n",
        "final = StructType(fields=schema)\r\n",
        "final"
      ],
      "execution_count": 12,
      "outputs": [
        {
          "output_type": "execute_result",
          "data": {
            "text/plain": [
              "StructType(List(StructField(food,StringType,true),StructField(price,IntegerType,true)))"
            ]
          },
          "metadata": {
            "tags": []
          },
          "execution_count": 12
        }
      ]
    },
    {
      "cell_type": "code",
      "metadata": {
        "colab": {
          "base_uri": "https://localhost:8080/"
        },
        "id": "maUbQFu2OvEq",
        "outputId": "18b86937-5ba7-4c93-d4fd-66bdb6fa4b1f"
      },
      "source": [
        "# Read our data with our new schema\r\n",
        "dataframe = spark.read.csv(SparkFiles.get(\"food.csv\"), schema=final, sep=\",\", header=True)\r\n",
        "dataframe.printSchema()"
      ],
      "execution_count": 13,
      "outputs": [
        {
          "output_type": "stream",
          "text": [
            "root\n",
            " |-- food: string (nullable = true)\n",
            " |-- price: integer (nullable = true)\n",
            "\n"
          ],
          "name": "stdout"
        }
      ]
    },
    {
      "cell_type": "code",
      "metadata": {
        "colab": {
          "base_uri": "https://localhost:8080/"
        },
        "id": "at65MoLMO0w7",
        "outputId": "64dc6ee3-c11a-4e3b-dc52-86264e54a887"
      },
      "source": [
        "dataframe['price']"
      ],
      "execution_count": 14,
      "outputs": [
        {
          "output_type": "execute_result",
          "data": {
            "text/plain": [
              "Column<b'price'>"
            ]
          },
          "metadata": {
            "tags": []
          },
          "execution_count": 14
        }
      ]
    },
    {
      "cell_type": "code",
      "metadata": {
        "colab": {
          "base_uri": "https://localhost:8080/"
        },
        "id": "279SGgxAO3H0",
        "outputId": "21a41c49-f04e-40da-fd77-1a8d38d0d6e1"
      },
      "source": [
        "type(dataframe['price'])"
      ],
      "execution_count": 15,
      "outputs": [
        {
          "output_type": "execute_result",
          "data": {
            "text/plain": [
              "pyspark.sql.column.Column"
            ]
          },
          "metadata": {
            "tags": []
          },
          "execution_count": 15
        }
      ]
    },
    {
      "cell_type": "code",
      "metadata": {
        "colab": {
          "base_uri": "https://localhost:8080/"
        },
        "id": "37HSLIr4O8Fl",
        "outputId": "453b1e91-2bc1-41cf-ae34-f904c7baa7ff"
      },
      "source": [
        "dataframe.select('price')"
      ],
      "execution_count": 16,
      "outputs": [
        {
          "output_type": "execute_result",
          "data": {
            "text/plain": [
              "DataFrame[price: int]"
            ]
          },
          "metadata": {
            "tags": []
          },
          "execution_count": 16
        }
      ]
    },
    {
      "cell_type": "code",
      "metadata": {
        "colab": {
          "base_uri": "https://localhost:8080/"
        },
        "id": "KtfJYmx6PCJj",
        "outputId": "a6369949-dbc5-4a0b-80dc-7b69ab29a8b1"
      },
      "source": [
        "type(dataframe.select('price'))"
      ],
      "execution_count": 17,
      "outputs": [
        {
          "output_type": "execute_result",
          "data": {
            "text/plain": [
              "pyspark.sql.dataframe.DataFrame"
            ]
          },
          "metadata": {
            "tags": []
          },
          "execution_count": 17
        }
      ]
    },
    {
      "cell_type": "code",
      "metadata": {
        "colab": {
          "base_uri": "https://localhost:8080/"
        },
        "id": "QFB8EMuWPKZ3",
        "outputId": "8740689f-9a99-4e66-9e6d-c10bb5048738"
      },
      "source": [
        "dataframe.select('price').show()"
      ],
      "execution_count": 18,
      "outputs": [
        {
          "output_type": "stream",
          "text": [
            "+-----+\n",
            "|price|\n",
            "+-----+\n",
            "|    0|\n",
            "|   12|\n",
            "|   10|\n",
            "+-----+\n",
            "\n"
          ],
          "name": "stdout"
        }
      ]
    },
    {
      "cell_type": "code",
      "metadata": {
        "colab": {
          "base_uri": "https://localhost:8080/"
        },
        "id": "hrhUQrU2PqNe",
        "outputId": "844dae07-a8a7-44a3-b157-3f7c1b03bf85"
      },
      "source": [
        "# Add new column\r\n",
        "dataframe.withColumn('newprice', dataframe['price']).show()"
      ],
      "execution_count": 19,
      "outputs": [
        {
          "output_type": "stream",
          "text": [
            "+-------+-----+--------+\n",
            "|   food|price|newprice|\n",
            "+-------+-----+--------+\n",
            "|  pizza|    0|       0|\n",
            "|  sushi|   12|      12|\n",
            "|chinese|   10|      10|\n",
            "+-------+-----+--------+\n",
            "\n"
          ],
          "name": "stdout"
        }
      ]
    },
    {
      "cell_type": "code",
      "metadata": {
        "colab": {
          "base_uri": "https://localhost:8080/"
        },
        "id": "Lvwu9giQPrmp",
        "outputId": "c0db5d96-4c76-46b8-ed2a-4dbb8ed8f00c"
      },
      "source": [
        "# Update column name\r\n",
        "dataframe.withColumnRenamed('price','newerprice').show()"
      ],
      "execution_count": 20,
      "outputs": [
        {
          "output_type": "stream",
          "text": [
            "+-------+----------+\n",
            "|   food|newerprice|\n",
            "+-------+----------+\n",
            "|  pizza|         0|\n",
            "|  sushi|        12|\n",
            "|chinese|        10|\n",
            "+-------+----------+\n",
            "\n"
          ],
          "name": "stdout"
        }
      ]
    },
    {
      "cell_type": "code",
      "metadata": {
        "colab": {
          "base_uri": "https://localhost:8080/"
        },
        "id": "ZnQOiIqTPwAu",
        "outputId": "7952e350-87e8-48bc-8fdb-aaef327c5ad9"
      },
      "source": [
        "# Double the price\r\n",
        "dataframe.withColumn('doubleprice',dataframe['price']*2).show()\r\n",
        "# Add a dollar to the price\r\n",
        "dataframe.withColumn('add_one_dollar',dataframe['price']+1).show()\r\n",
        "# Half the price\r\n",
        "dataframe.withColumn('half_price',dataframe['price']/2).show()"
      ],
      "execution_count": 21,
      "outputs": [
        {
          "output_type": "stream",
          "text": [
            "+-------+-----+-----------+\n",
            "|   food|price|doubleprice|\n",
            "+-------+-----+-----------+\n",
            "|  pizza|    0|          0|\n",
            "|  sushi|   12|         24|\n",
            "|chinese|   10|         20|\n",
            "+-------+-----+-----------+\n",
            "\n",
            "+-------+-----+--------------+\n",
            "|   food|price|add_one_dollar|\n",
            "+-------+-----+--------------+\n",
            "|  pizza|    0|             1|\n",
            "|  sushi|   12|            13|\n",
            "|chinese|   10|            11|\n",
            "+-------+-----+--------------+\n",
            "\n",
            "+-------+-----+----------+\n",
            "|   food|price|half_price|\n",
            "+-------+-----+----------+\n",
            "|  pizza|    0|       0.0|\n",
            "|  sushi|   12|       6.0|\n",
            "|chinese|   10|       5.0|\n",
            "+-------+-----+----------+\n",
            "\n"
          ],
          "name": "stdout"
        }
      ]
    },
    {
      "cell_type": "code",
      "metadata": {
        "colab": {
          "base_uri": "https://localhost:8080/"
        },
        "id": "yXp0AZFBQK9P",
        "outputId": "ce91a424-5452-4a22-8be0-149e94296360"
      },
      "source": [
        "# Read in data from S3 Buckets\r\n",
        "from pyspark import SparkFiles\r\n",
        "url =\"https://s3.amazonaws.com/dataviz-curriculum/day_1/wine.csv\"\r\n",
        "spark.sparkContext.addFile(url)\r\n",
        "df = spark.read.csv(SparkFiles.get(\"wine.csv\"), sep=\",\", header=True)\r\n",
        "\r\n",
        "# Show DataFrame\r\n",
        "df.show()"
      ],
      "execution_count": 22,
      "outputs": [
        {
          "output_type": "stream",
          "text": [
            "+-------+--------------------+--------------------+------+-----+------------------+--------------------+-----------------+------------------+--------------------+\n",
            "|country|         description|         designation|points|price|          province|            region_1|         region_2|           variety|              winery|\n",
            "+-------+--------------------+--------------------+------+-----+------------------+--------------------+-----------------+------------------+--------------------+\n",
            "|     US|This tremendous 1...|   Martha's Vineyard|    96|  235|        California|         Napa Valley|             Napa|Cabernet Sauvignon|               Heitz|\n",
            "|  Spain|Ripe aromas of fi...|Carodorum Selecci...|    96|  110|    Northern Spain|                Toro|             null|     Tinta de Toro|Bodega Carmen Rod...|\n",
            "|     US|Mac Watson honors...|Special Selected ...|    96|   90|        California|      Knights Valley|           Sonoma|   Sauvignon Blanc|            Macauley|\n",
            "|     US|This spent 20 mon...|             Reserve|    96|   65|            Oregon|   Willamette Valley|Willamette Valley|        Pinot Noir|               Ponzi|\n",
            "| France|This is the top w...|         La Br��lade|    95|   66|          Provence|              Bandol|             null|Provence red blend|Domaine de la B̩gude|\n",
            "|  Spain|Deep, dense and p...|           Numanthia|    95|   73|    Northern Spain|                Toro|             null|     Tinta de Toro|           Numanthia|\n",
            "|  Spain|Slightly gritty b...|          San Rom��n|    95|   65|    Northern Spain|                Toro|             null|     Tinta de Toro|            Maurodos|\n",
            "|  Spain|Lush cedary black...|Carodorum �_nico ...|    95|  110|    Northern Spain|                Toro|             null|     Tinta de Toro|Bodega Carmen Rod...|\n",
            "|     US|This re-named vin...|              Silice|    95|   65|            Oregon|  Chehalem Mountains|Willamette Valley|        Pinot Noir|           Bergstr̦m|\n",
            "|     US|The producer sour...|Gap's Crown Vineyard|    95|   60|        California|        Sonoma Coast|           Sonoma|        Pinot Noir|           Blue Farm|\n",
            "|  Italy|Elegance, complex...|  Ronco della Chiesa|    95|   80|Northeastern Italy|              Collio|             null|          Friulano|    Borgo del Tiglio|\n",
            "|     US|From 18-year-old ...|Estate Vineyard W...|    95|   48|            Oregon|        Ribbon Ridge|Willamette Valley|        Pinot Noir|Patricia Green Ce...|\n",
            "|     US|A standout even i...|      Weber Vineyard|    95|   48|            Oregon|        Dundee Hills|Willamette Valley|        Pinot Noir|Patricia Green Ce...|\n",
            "| France|This wine is in p...|Ch̢teau Montus Pr...|    95|   90|  Southwest France|             Madiran|             null|            Tannat|   Vignobles Brumont|\n",
            "|     US|With its sophisti...|      Grace Vineyard|    95|  185|            Oregon|        Dundee Hills|Willamette Valley|        Pinot Noir|      Domaine Serene|\n",
            "|     US|First made in 200...|              Sigrid|    95|   90|            Oregon|   Willamette Valley|Willamette Valley|        Chardonnay|           Bergstr̦m|\n",
            "|     US|This blockbuster,...|     Rainin Vineyard|    95|  325|        California|Diamond Mountain ...|             Napa|Cabernet Sauvignon|                Hall|\n",
            "|  Spain|Nicely oaked blac...|6 A̱os Reserva Pr...|    95|   80|    Northern Spain|    Ribera del Duero|             null|       Tempranillo|            Valduero|\n",
            "| France|Coming from a sev...|       Le Pigeonnier|    95|  290|  Southwest France|              Cahors|             null|            Malbec|  Ch̢teau Lagr̩zette|\n",
            "|     US|This fresh and li...|Gap's Crown Vineyard|    95|   75|        California|        Sonoma Coast|           Sonoma|        Pinot Noir|        Gary Farrell|\n",
            "+-------+--------------------+--------------------+------+-----+------------------+--------------------+-----------------+------------------+--------------------+\n",
            "only showing top 20 rows\n",
            "\n"
          ],
          "name": "stdout"
        }
      ]
    },
    {
      "cell_type": "code",
      "metadata": {
        "colab": {
          "base_uri": "https://localhost:8080/"
        },
        "id": "mJIEYq2jQVPP",
        "outputId": "b5300639-6150-47db-a3c3-e5476ea3ea98"
      },
      "source": [
        "# Order a DataFrame by ascending values\r\n",
        "df.orderBy(df[\"points\"].desc())"
      ],
      "execution_count": 30,
      "outputs": [
        {
          "output_type": "execute_result",
          "data": {
            "text/plain": [
              "DataFrame[country: string, description: string, designation: string, points: string, price: string, province: string, region_1: string, region_2: string, variety: string, winery: string]"
            ]
          },
          "metadata": {
            "tags": []
          },
          "execution_count": 30
        }
      ]
    },
    {
      "cell_type": "code",
      "metadata": {
        "colab": {
          "base_uri": "https://localhost:8080/"
        },
        "id": "9lHYpA3jQdcQ",
        "outputId": "c53ce75e-ba25-4c9b-94b7-8d47997f1e18"
      },
      "source": [
        "df.show(50)"
      ],
      "execution_count": 28,
      "outputs": [
        {
          "output_type": "stream",
          "text": [
            "+-----------+--------------------+--------------------+------+-----+------------------+--------------------+-----------------+--------------------+--------------------+\n",
            "|    country|         description|         designation|points|price|          province|            region_1|         region_2|             variety|              winery|\n",
            "+-----------+--------------------+--------------------+------+-----+------------------+--------------------+-----------------+--------------------+--------------------+\n",
            "|         US|This tremendous 1...|   Martha's Vineyard|    96|  235|        California|         Napa Valley|             Napa|  Cabernet Sauvignon|               Heitz|\n",
            "|      Spain|Ripe aromas of fi...|Carodorum Selecci...|    96|  110|    Northern Spain|                Toro|             null|       Tinta de Toro|Bodega Carmen Rod...|\n",
            "|         US|Mac Watson honors...|Special Selected ...|    96|   90|        California|      Knights Valley|           Sonoma|     Sauvignon Blanc|            Macauley|\n",
            "|         US|This spent 20 mon...|             Reserve|    96|   65|            Oregon|   Willamette Valley|Willamette Valley|          Pinot Noir|               Ponzi|\n",
            "|     France|This is the top w...|         La Br��lade|    95|   66|          Provence|              Bandol|             null|  Provence red blend|Domaine de la B̩gude|\n",
            "|      Spain|Deep, dense and p...|           Numanthia|    95|   73|    Northern Spain|                Toro|             null|       Tinta de Toro|           Numanthia|\n",
            "|      Spain|Slightly gritty b...|          San Rom��n|    95|   65|    Northern Spain|                Toro|             null|       Tinta de Toro|            Maurodos|\n",
            "|      Spain|Lush cedary black...|Carodorum �_nico ...|    95|  110|    Northern Spain|                Toro|             null|       Tinta de Toro|Bodega Carmen Rod...|\n",
            "|         US|This re-named vin...|              Silice|    95|   65|            Oregon|  Chehalem Mountains|Willamette Valley|          Pinot Noir|           Bergstr̦m|\n",
            "|         US|The producer sour...|Gap's Crown Vineyard|    95|   60|        California|        Sonoma Coast|           Sonoma|          Pinot Noir|           Blue Farm|\n",
            "|      Italy|Elegance, complex...|  Ronco della Chiesa|    95|   80|Northeastern Italy|              Collio|             null|            Friulano|    Borgo del Tiglio|\n",
            "|         US|From 18-year-old ...|Estate Vineyard W...|    95|   48|            Oregon|        Ribbon Ridge|Willamette Valley|          Pinot Noir|Patricia Green Ce...|\n",
            "|         US|A standout even i...|      Weber Vineyard|    95|   48|            Oregon|        Dundee Hills|Willamette Valley|          Pinot Noir|Patricia Green Ce...|\n",
            "|     France|This wine is in p...|Ch̢teau Montus Pr...|    95|   90|  Southwest France|             Madiran|             null|              Tannat|   Vignobles Brumont|\n",
            "|         US|With its sophisti...|      Grace Vineyard|    95|  185|            Oregon|        Dundee Hills|Willamette Valley|          Pinot Noir|      Domaine Serene|\n",
            "|         US|First made in 200...|              Sigrid|    95|   90|            Oregon|   Willamette Valley|Willamette Valley|          Chardonnay|           Bergstr̦m|\n",
            "|         US|This blockbuster,...|     Rainin Vineyard|    95|  325|        California|Diamond Mountain ...|             Napa|  Cabernet Sauvignon|                Hall|\n",
            "|      Spain|Nicely oaked blac...|6 A̱os Reserva Pr...|    95|   80|    Northern Spain|    Ribera del Duero|             null|         Tempranillo|            Valduero|\n",
            "|     France|Coming from a sev...|       Le Pigeonnier|    95|  290|  Southwest France|              Cahors|             null|              Malbec|  Ch̢teau Lagr̩zette|\n",
            "|         US|This fresh and li...|Gap's Crown Vineyard|    95|   75|        California|        Sonoma Coast|           Sonoma|          Pinot Noir|        Gary Farrell|\n",
            "|         US|Heitz has made th...|          Grignolino|    95|   24|        California|         Napa Valley|             Napa|                Ros̩|               Heitz|\n",
            "|      Spain|Alluring, complex...|Prado Enea Gran R...|    95|   79|    Northern Spain|               Rioja|             null|   Tempranillo Blend|                Muga|\n",
            "|      Spain|Tarry blackberry ...|          Termanthia|    95|  220|    Northern Spain|                Toro|             null|       Tinta de Toro|           Numanthia|\n",
            "|         US|The apogee of thi...|       Giallo Solare|    95|   60|        California|         Edna Valley|    Central Coast|          Chardonnay|    Center of Effort|\n",
            "|         US|San Jose-based pr...|       R-Bar-R Ranch|    95|   45|        California|Santa Cruz Mountains|    Central Coast|          Pinot Noir|            Comartin|\n",
            "|New Zealand|Yields were down ...|     Mat̩'s Vineyard|    94|   57|             Kumeu|                null|             null|          Chardonnay|         Kumeu River|\n",
            "|         US|Bergstr̦m has mad...|       Shea Vineyard|    94|   62|            Oregon|   Willamette Valley|             null|          Pinot Noir|           Bergstr̦m|\n",
            "|         US|Focused and dense...|             Abetina|    94|  105|            Oregon|   Willamette Valley|Willamette Valley|          Pinot Noir|               Ponzi|\n",
            "|         US|Cranberry, baked ...|     Garys' Vineyard|    94|   60|        California|Santa Lucia Highl...|    Central Coast|          Pinot Noir|                Roar|\n",
            "|         US|This standout Roc...|     The Funk Estate|    94|   60|        Washington|Walla Walla Valle...|  Columbia Valley|               Syrah|              Saviah|\n",
            "|   Bulgaria|This Bulgarian Ma...|             Bergul̩|    90|   15|          Bulgaria|                null|             null|              Mavrud|        Villa Melnik|\n",
            "|         US|Steely and perfum...|            Babushka|    90|   37|        California|Russian River Valley|           Sonoma|          Chardonnay|            Zepaltas|\n",
            "|      Italy|Underbrush, scorc...|       Vigna Piaggia|    90| null|           Tuscany|Brunello di Monta...|             null|          Sangiovese|     Abbadia Ardenga|\n",
            "|     France|Pale in color, th...|Nonpareil Tr̩sor ...|    90|   22|      France Other|        Vin Mousseux|             null|     Sparkling Blend|      Bouvet-Ladubay|\n",
            "|         US|The aromas entice...| Conner Lee Vineyard|    90|   42|        Washington|Columbia Valley (WA)|  Columbia Valley|          Chardonnay|                Buty|\n",
            "|      Italy|Forest floor, til...|             Riserva|    90|  135|           Tuscany|Brunello di Monta...|             null|          Sangiovese|            Carillon|\n",
            "|     France|Gingery spice not...|                null|    90|   60|      Rh̫ne Valley| Ch̢teauneuf-du-Pape|             null|Rh̫ne-style White...|Clos de L'Oratoir...|\n",
            "|      Italy|Aromas of forest ...|                null|    90|   29|           Tuscany|Vino Nobile di Mo...|             null|          Sangiovese|          Avignonesi|\n",
            "|      Italy|This has a charmi...|                null|    90|   23|           Tuscany|    Chianti Classico|             null|          Sangiovese|    Casina di Cornia|\n",
            "|      Italy|This bright, savo...|             Riserva|    90|   29|           Tuscany|    Chianti Classico|             null|           Red Blend|Castello di Monte...|\n",
            "|      Spain|Earthy plum and c...|              Amandi|    90|   17|           Galicia|       Ribeira Sacra|             null|             Menc�_a|      Don Bernardino|\n",
            "|      Spain|This comes across...|Alfonso Oloroso Seco|    90|   26|         Andalucia|               Jerez|             null|            Palomino|     Gonz��lez Byass|\n",
            "|         US|This is an aromat...|     Private Reserve|    90|   55|             Idaho|                null|             null|        Petite Sirah|              Huston|\n",
            "|      Italy|Aromas of dark-sk...|             Riserva|    90|   39|           Tuscany|    Chianti Classico|             null|           Red Blend|             Rignana|\n",
            "|     France|Dark in color and...|             Coteaux|    90|   69|      Rh̫ne Valley|              Cornas|             null|               Syrah|     Tardieu-Laurent|\n",
            "|      Italy|A blend of 90% Sa...|Vigneto Odoardo B...|    90|   30|           Tuscany|    Chianti Classico|             null|           Red Blend|        Vignavecchia|\n",
            "|      Italy|Sunbaked earth, r...|    Poggio alle Mura|    90|   90|           Tuscany|Brunello di Monta...|             null|          Sangiovese|               Banfi|\n",
            "|         US|Blended with 9% M...|        Estate Grown|    90|   60|        California|        Mount Veeder|             Napa|  Cabernet Sauvignon|            Brandlin|\n",
            "|      Italy|Ripe dark-skinned...|                null|    90|   50|           Tuscany|Brunello di Monta...|             null|          Sangiovese|  Brunelli Martoccia|\n",
            "|         US|The aromas of blu...|                null|    90|   40|        Washington|        Red Mountain|  Columbia Valley|  Cabernet Sauvignon|          Canvasback|\n",
            "+-----------+--------------------+--------------------+------+-----+------------------+--------------------+-----------------+--------------------+--------------------+\n",
            "only showing top 50 rows\n",
            "\n"
          ],
          "name": "stdout"
        }
      ]
    },
    {
      "cell_type": "code",
      "metadata": {
        "colab": {
          "base_uri": "https://localhost:8080/"
        },
        "id": "EnbhbWb_RCcQ",
        "outputId": "5ec31303-3531-4aa2-c82b-1a21c279e4f1"
      },
      "source": [
        "from pyspark.sql.functions import avg\r\n",
        "df.select(avg('points')).show()"
      ],
      "execution_count": 32,
      "outputs": [
        {
          "output_type": "stream",
          "text": [
            "+-----------------+\n",
            "|      avg(points)|\n",
            "+-----------------+\n",
            "|87.88834105383143|\n",
            "+-----------------+\n",
            "\n"
          ],
          "name": "stdout"
        }
      ]
    },
    {
      "cell_type": "code",
      "metadata": {
        "colab": {
          "base_uri": "https://localhost:8080/"
        },
        "id": "ovK102r0RPgZ",
        "outputId": "421ba767-779a-4e8e-df55-0c5efbf755bc"
      },
      "source": [
        "df.filter('price<20').show(5)"
      ],
      "execution_count": 33,
      "outputs": [
        {
          "output_type": "stream",
          "text": [
            "+--------+--------------------+-----------+------+-----+----------+--------------------+-----------------+--------------+--------------------+\n",
            "| country|         description|designation|points|price|  province|            region_1|         region_2|       variety|              winery|\n",
            "+--------+--------------------+-----------+------+-----+----------+--------------------+-----------------+--------------+--------------------+\n",
            "|Bulgaria|This Bulgarian Ma...|    Bergul̩|    90|   15|  Bulgaria|                null|             null|        Mavrud|        Villa Melnik|\n",
            "|   Spain|Earthy plum and c...|     Amandi|    90|   17|   Galicia|       Ribeira Sacra|             null|       Menc�_a|      Don Bernardino|\n",
            "|      US|There's a lot to ...|       null|    90|   18|California|Russian River Valley|           Sonoma|    Chardonnay|            De Loach|\n",
            "|      US|Massively fruity,...|       null|    91|   19|    Oregon|   Willamette Valley|Willamette Valley|    Pinot Gris|   Trinity Vineyards|\n",
            "|Portugal|It is the ripe da...|    Premium|    91|   15|  Alentejo|                null|             null|Portuguese Red|Adega Cooperativa...|\n",
            "+--------+--------------------+-----------+------+-----+----------+--------------------+-----------------+--------------+--------------------+\n",
            "only showing top 5 rows\n",
            "\n"
          ],
          "name": "stdout"
        }
      ]
    },
    {
      "cell_type": "code",
      "metadata": {
        "colab": {
          "base_uri": "https://localhost:8080/"
        },
        "id": "IU2KHr2-RYV7",
        "outputId": "a1065694-922d-41c0-ab95-18fb10d3da5a"
      },
      "source": [
        "df.filter('price<20').select(['points','country','winery','price']).show(5)"
      ],
      "execution_count": 35,
      "outputs": [
        {
          "output_type": "stream",
          "text": [
            "+------+--------+--------------------+-----+\n",
            "|points| country|              winery|price|\n",
            "+------+--------+--------------------+-----+\n",
            "|    90|Bulgaria|        Villa Melnik|   15|\n",
            "|    90|   Spain|      Don Bernardino|   17|\n",
            "|    90|      US|            De Loach|   18|\n",
            "|    91|      US|   Trinity Vineyards|   19|\n",
            "|    91|Portugal|Adega Cooperativa...|   15|\n",
            "+------+--------+--------------------+-----+\n",
            "only showing top 5 rows\n",
            "\n"
          ],
          "name": "stdout"
        }
      ]
    },
    {
      "cell_type": "code",
      "metadata": {
        "colab": {
          "base_uri": "https://localhost:8080/"
        },
        "id": "r_cCvHSWR228",
        "outputId": "97530b0d-fb85-458b-819a-075b8b9f6064"
      },
      "source": [
        "df.filter(df['province']=='California').filter('price>75').show(5)"
      ],
      "execution_count": 42,
      "outputs": [
        {
          "output_type": "stream",
          "text": [
            "+-------+--------------------+--------------------+------+-----+----------+--------------------+--------+------------------+--------------------+\n",
            "|country|         description|         designation|points|price|  province|            region_1|region_2|           variety|              winery|\n",
            "+-------+--------------------+--------------------+------+-----+----------+--------------------+--------+------------------+--------------------+\n",
            "|     US|This tremendous 1...|   Martha's Vineyard|    96|  235|California|         Napa Valley|    Napa|Cabernet Sauvignon|               Heitz|\n",
            "|     US|Mac Watson honors...|Special Selected ...|    96|   90|California|      Knights Valley|  Sonoma|   Sauvignon Blanc|            Macauley|\n",
            "|     US|This blockbuster,...|     Rainin Vineyard|    95|  325|California|Diamond Mountain ...|    Napa|Cabernet Sauvignon|                Hall|\n",
            "|     US|From the producer...|               Animo|    91|   85|California|         Napa Valley|    Napa|Cabernet Sauvignon|Michael Mondavi F...|\n",
            "|     US|Sweetened tannins...| District Collection|    91|   85|California|          St. Helena|    Napa|Cabernet Sauvignon|             Raymond|\n",
            "+-------+--------------------+--------------------+------+-----+----------+--------------------+--------+------------------+--------------------+\n",
            "only showing top 5 rows\n",
            "\n"
          ],
          "name": "stdout"
        }
      ]
    },
    {
      "cell_type": "code",
      "metadata": {
        "id": "LTlloxj0Rq0B"
      },
      "source": [
        ""
      ],
      "execution_count": null,
      "outputs": []
    }
  ]
}